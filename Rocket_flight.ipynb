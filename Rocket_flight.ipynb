{
 "metadata": {
  "name": "",
  "signature": "sha256:ec9e5a3a253329706820b5eea10b7662fef814d71b94ddcf81693493cc1b8d43"
 },
 "nbformat": 3,
 "nbformat_minor": 0,
 "worksheets": [
  {
   "cells": [
    {
     "cell_type": "code",
     "collapsed": false,
     "input": [
      "%matplotlib inline\n",
      "import matplotlib.pyplot as plt\n",
      "import numpy as np"
     ],
     "language": "python",
     "metadata": {},
     "outputs": [],
     "prompt_number": 72
    },
    {
     "cell_type": "code",
     "collapsed": false,
     "input": [
      "# function to return the right hand side of the equations of motion\n",
      "def f(u):\n",
      "    \"\"\"Returns the RHS of the equations of motion for a rocket in purely vertical flight\n",
      "    Parameters\n",
      "    ----------\n",
      "    u : array of float\n",
      "        array containing the solution at time n (v and h)\n",
      "    \n",
      "    Returns\n",
      "    -------\n",
      "    dudt : array of float\n",
      "        array containing the RHS given u\n",
      "    \"\"\"\n",
      "    v = u[0] # first number is initial velocity guess\n",
      "    h = u[1] # second number is initial height guess\n",
      "    \n",
      "    #if h < 0:\n",
      "    #    new_u =  np.array([0., 0.])\n",
      "    #else:\n",
      "    new_u =  np.array([-g + (mpi * v_e) / (ms + mp) - \\\n",
      "                (0.5 * rho * v * abs(v) * A * c_d) / (ms + mp), \\\n",
      "                v])\n",
      "        \n",
      "    return new_u"
     ],
     "language": "python",
     "metadata": {},
     "outputs": [],
     "prompt_number": 73
    },
    {
     "cell_type": "code",
     "collapsed": false,
     "input": [
      "# function to return the solution at the next time step using Euler's method\n",
      "def euler_step(u, f, dt):\n",
      "    \"\"\"Returns the solution at the next time-step using Euler's method.\n",
      "    Parameters\n",
      "    ----------\n",
      "    u : array of float\n",
      "        solution at the previous time-step\n",
      "    fv : function\n",
      "        function to compute the RHS of the velocity equation\n",
      "    dt : float\n",
      "        time-increment\n",
      "        \n",
      "    Returns\n",
      "    -------\n",
      "    u_n_plus_1 : array of float\n",
      "        approximate solution at the next time step\n",
      "    \"\"\"\n",
      "    \n",
      "    return u + dt * f(u)  "
     ],
     "language": "python",
     "metadata": {},
     "outputs": [],
     "prompt_number": 74
    },
    {
     "cell_type": "code",
     "collapsed": false,
     "input": [
      "# define variables\n",
      "ms = 50.0 # mass in kg\n",
      "g = 9.81 # m/s^2\n",
      "rho = 1.091 # ave air density (constant)\n",
      "A = np.pi * 0.5 *0.5 # max csa of the rocket\n",
      "v_e = 325.0 # exhaust speed\n",
      "c_d = 0.15 # drag coeff\n",
      "mp0 = 100.0 # initial weight of rocket propellant\n",
      "\n",
      "# set initial conditions\n",
      "v0 = 0. # first guess initial velocity\n",
      "h0 = 0. # first guess initial altitude"
     ],
     "language": "python",
     "metadata": {},
     "outputs": [],
     "prompt_number": 75
    },
    {
     "cell_type": "code",
     "collapsed": false,
     "input": [
      "# set time increment and discretise the time\n",
      "dt = 0.1 # time increment\n",
      "T = 50. # final time\n",
      "N = int(T/dt)+1 # number of timesteps\n",
      "t = np.linspace(0.0, T, N)"
     ],
     "language": "python",
     "metadata": {},
     "outputs": [],
     "prompt_number": 76
    },
    {
     "cell_type": "code",
     "collapsed": false,
     "input": [
      "# set initial conditions\n",
      "u_euler = np.empty((N, 2))\n",
      "\n",
      "# initialize the array containing the soution for each time-step\n",
      "u_euler[0] = np.array([v0, h0])"
     ],
     "language": "python",
     "metadata": {},
     "outputs": [],
     "prompt_number": 77
    },
    {
     "cell_type": "code",
     "collapsed": false,
     "input": [
      "# use a for loop to call the function\n",
      "for n in range(N-1):\n",
      "    if t[n] <= 4.999:\n",
      "        mp = mp0 - (20. * t[n])\n",
      "        mpi = 20.\n",
      "    else:\n",
      "        mp = 0.\n",
      "        mpi = 0.\n",
      "    #print mp, mpi\n",
      "    if t[n] == 3.2:\n",
      "        print mp, mpi\n",
      "    \n",
      "    u_euler[n+1] = euler_step(u_euler[n], f, dt)\n",
      "    "
     ],
     "language": "python",
     "metadata": {},
     "outputs": [
      {
       "output_type": "stream",
       "stream": "stdout",
       "text": [
        "36.0 20.0\n"
       ]
      }
     ],
     "prompt_number": 78
    },
    {
     "cell_type": "code",
     "collapsed": false,
     "input": [
      "fig1 = plt.figure()\n",
      "plt.plot(t, u_euler[:,0], label = 'velocity')\n",
      "plt.plot(t, u_euler[:,1], label = 'height')\n",
      "\n",
      "plt.xlabel('time in seconds')\n",
      "plt.legend()"
     ],
     "language": "python",
     "metadata": {},
     "outputs": [
      {
       "metadata": {},
       "output_type": "pyout",
       "prompt_number": 79,
       "text": [
        "<matplotlib.legend.Legend at 0xa6d3ef0>"
       ]
      },
      {
       "metadata": {},
       "output_type": "display_data",
       "png": "[encoded data removed]",
       "text": [
        "<matplotlib.figure.Figure at 0xa4bbd30>"
       ]
      }
     ],
     "prompt_number": 79
    },
    {
     "cell_type": "code",
     "collapsed": false,
     "input": [
      "# max speed of the rocket:\n",
      "print 'max speed of rocket is %r m/s' % np.round(u_euler[:,0].max(), decimals = 2)\n",
      "\n",
      "# time of max speed:\n",
      "index_time = np.where(u_euler[:,0]==u_euler[:,0].max())[0]\n",
      "print 'time of max speed is %r s' % t[index_time[0]]\n",
      "\n",
      "# altitude at max speed:\n",
      "print 'altitude at max speed is %r m' %np.round(u_euler[index_time[0], 1], decimals = 2)"
     ],
     "language": "python",
     "metadata": {},
     "outputs": [
      {
       "output_type": "stream",
       "stream": "stdout",
       "text": [
        "max speed of rocket is 232.10599999999999 m/s\n",
        "time of max speed is 5.0 s\n",
        "altitude at max speed is 523.52283 m\n"
       ]
      }
     ],
     "prompt_number": 88
    },
    {
     "cell_type": "code",
     "collapsed": false,
     "input": [
      "# max altitude during flight\n",
      "print 'max altitude of rocket is %r' % np.round(u_euler[:,1].max(), decimals=2)\n",
      "\n",
      "# time of max altitude:\n",
      "#print index_time2\n",
      "index_time2 = np.where(u_euler[:,1]==u_euler[:,1].max())[0]\n",
      "print 'max altitude occurs at %r s' %np.round(t[index_time2[0]], decimals=2)\n"
     ],
     "language": "python",
     "metadata": {},
     "outputs": [
      {
       "output_type": "stream",
       "stream": "stdout",
       "text": [
        "max altitude of rocket is 1334.1829499999999\n",
        "[157]\n",
        "max altitude occurs at 15.699999999999999 s\n"
       ]
      }
     ],
     "prompt_number": 93
    },
    {
     "cell_type": "code",
     "collapsed": false,
     "input": [
      "# time of impact\n",
      "index_impact=np.where(u_euler[:,1]<=0.)\n",
      "print index_impact[0]\n",
      "hits_the_ground =  t[index_impact[0][2]]\n",
      "\n",
      "print 'the rocket hits the ground at %r s' % np.round(hits_the_ground, decimals = 2)\n",
      "\n",
      "# speed at impact\n",
      "print 'the speed at impact is %r s' % np.round(u_euler[index_impact[0][2],0], decimals = 2)"
     ],
     "language": "python",
     "metadata": {},
     "outputs": [
      {
       "output_type": "stream",
       "stream": "stdout",
       "text": [
        "[  0   1 371 372 373 374 375 376 377 378 379 380 381 382 383 384 385 386\n",
        " 387 388 389 390 391 392 393 394 395 396 397 398 399 400 401 402 403 404\n",
        " 405 406 407 408 409 410 411 412 413 414 415 416 417 418 419 420 421 422\n",
        " 423 424 425 426 427 428 429 430 431 432 433 434 435 436 437 438 439 440\n",
        " 441 442 443 444 445 446 447 448 449 450 451 452 453 454 455 456 457 458\n",
        " 459 460 461 462 463 464 465 466 467 468 469 470 471 472 473 474 475 476\n",
        " 477 478 479 480 481 482 483 484 485 486 487 488 489 490 491 492 493 494\n",
        " 495 496 497 498 499 500]\n",
        "the rocket hits the ground at 37.100000000000001 s\n",
        "the speed at impact is -86.010000000000005 s\n"
       ]
      }
     ],
     "prompt_number": 97
    },
    {
     "cell_type": "code",
     "collapsed": false,
     "input": [
      "print u_euler[:,0].max()\n",
      "print u_euler[157,:]\n",
      "print t[157]\n",
      "\n"
     ],
     "language": "python",
     "metadata": {},
     "outputs": [
      {
       "output_type": "stream",
       "stream": "stdout",
       "text": [
        "232.106133413\n",
        "[ -2.20676921e-01   1.33418295e+03]\n",
        "15.7\n"
       ]
      }
     ],
     "prompt_number": 95
    },
    {
     "cell_type": "code",
     "collapsed": false,
     "input": [
      "print u_euler"
     ],
     "language": "python",
     "metadata": {},
     "outputs": [
      {
       "output_type": "stream",
       "stream": "stdout",
       "text": [
        "[[  0.00000000e+00   0.00000000e+00]\n",
        " [  3.35233333e+00   0.00000000e+00]\n",
        " [  6.76273724e+00   3.35233333e-01]\n",
        " ..., \n",
        " [ -8.72874160e+01  -1.10625301e+03]\n",
        " [ -8.72891309e+01  -1.11498175e+03]\n",
        " [ -8.72908073e+01  -1.12371066e+03]]\n"
       ]
      }
     ],
     "prompt_number": 84
    }
   ],
   "metadata": {}
  }
 ]
}