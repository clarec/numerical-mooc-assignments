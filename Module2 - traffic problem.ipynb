{
 "metadata": {
  "name": "",
  "signature": "sha256:6087b1c0dfc07cf64eeffa30eda14712eb8da961505436a9cba4b43a7048e181"
 },
 "nbformat": 3,
 "nbformat_minor": 0,
 "worksheets": [
  {
   "cells": [
    {
     "cell_type": "heading",
     "level": 1,
     "metadata": {},
     "source": [
      "Coding assignment: traffic flow"
     ]
    },
    {
     "cell_type": "code",
     "collapsed": false,
     "input": [
      "import numpy as np\n",
      "import matplotlib.pyplot as plt\n",
      "\n",
      "%matplotlib inline"
     ],
     "language": "python",
     "metadata": {},
     "outputs": []
    },
    {
     "cell_type": "markdown",
     "metadata": {},
     "source": [
      "We define the speed of traffic, $V$, in kilometers per hour. We can also define a traffic density, the number of cars per unit length of hightway, $rho$, in cars per kilometer. Finally, we can define a traffic flux, or the flow rate of cars, $F$, in cars per hour. If $\\rho(x)=0$, there are no cars at that point $x$ of the road.  If $\\rho(x) = \\rho_{\\rm max}$, traffic is literally bumper to bumper.\n",
      "\n",
      "Traffic density obeys a conservation law where the flux is the number of cars leaving the road per unit time, $F=\\rho V$, where $V$ refers to the _traffic speed_ at a given point of the road. \n",
      "\n",
      "One possible equation to describe this behaviour is by considering the linear function:\n",
      "\n",
      "\\begin{equation}V = V_{\\rm max} \\left(1-\\frac{\\rho}{\\rho_{\\rm max}}\\right)\\end{equation}\n",
      "\n",
      "The linear model satisfies the following:  \n",
      "1.  All drivers will approach a maximum velocity $V_{max}$ when there are few cars on the road.\n",
      "2.  If cars are bumper to bumper, then $\\rho \\rightarrow \\rho_{max}$, and velocity approaches zero.  \n",
      "\n",
      "Then, traffic flux, $F$, can be described as:\n",
      "\n",
      "\\begin{equation}F = V\\rho \\end{equation}\n",
      "\n",
      "Applying a conservation law to the vehicle traffic, the traffic density will obey the following transport equation:\n",
      "\n",
      "\\begin{equation} \\frac{\\partial \\rho}{\\partial t} + \\frac{\\partial F}{\\partial x} = 0 \\end{equation}\n",
      "\n",
      "where $F$ is the *traffic flux*, which in the linear traffic-speed model is given by: \n",
      "\n",
      "\\begin{equation} F = \\rho V_{\\rm max} \\left(1-\\frac{\\rho}{\\rho_{\\rm max}}\\right).\n",
      "\\end{equation}\n"
     ]
    },
    {
     "cell_type": "code",
     "collapsed": false,
     "input": [
      "# parameters\n",
      "vmax = 136. #max velocity when the road is empty: km/hr\n",
      "L = 11. # length of road: km\n",
      "rhomax = 250. #max allowed car density: cars/km\n",
      "nx = 51 # no of grid points in x\n",
      "dt = .001 # timestep in hours"
     ],
     "language": "python",
     "metadata": {},
     "outputs": []
    },
    {
     "cell_type": "code",
     "collapsed": false,
     "input": [
      "# setting up initial conditions\n",
      "x = np.linspace(0,L,nx)\n",
      "dx = x[2] - x[1]\n",
      "rho0 = np.ones(nx)*20.\n",
      "rho0[10:20]=50.\n",
      "\n",
      "print rho0\n",
      "print dx"
     ],
     "language": "python",
     "metadata": {},
     "outputs": []
    },
    {
     "cell_type": "code",
     "collapsed": false,
     "input": [
      "plt.plot(x, rho0, color='#003366', lw=3)\n",
      "plt.ylabel('Traffic density [cars/km]')\n",
      "plt.xlabel('Distance [km]')\n",
      "plt.ylim(10,140)\n",
      "plt.grid()"
     ],
     "language": "python",
     "metadata": {},
     "outputs": []
    },
    {
     "cell_type": "code",
     "collapsed": false,
     "input": [
      "# function to calculate the traffic flux\n",
      "def computeF(u_max, rho_max, rho):\n",
      "    \"\"\"Computes flux F = V*rho\n",
      "    \n",
      "    Parameters\n",
      "    ----------\n",
      "    u_max   : float\n",
      "              max allowed velocity\n",
      "    rho     : array of floats\n",
      "              array with desity of cars at every point x\n",
      "    rho_max : float\n",
      "              max allowed car density\n",
      "              \n",
      "    Returns\n",
      "    -------\n",
      "    F  : array\n",
      "         array with flux at every point x\n",
      "    \"\"\"\n",
      "    return u_max*rho*(1-rho/rho_max)     \n",
      "\n",
      "    "
     ],
     "language": "python",
     "metadata": {},
     "outputs": []
    },
    {
     "cell_type": "code",
     "collapsed": false,
     "input": [
      "# function to calculate the traffic flux\n",
      "def computeV(u_max, rho_max, rho):\n",
      "    \"\"\"Computes V\n",
      "    \n",
      "    Parameters\n",
      "    ----------\n",
      "    u_max   : float\n",
      "              max allowed velocity\n",
      "    rho     : array of floats\n",
      "              array with desity of cars at every point x\n",
      "    rho_max : float\n",
      "              max allowed car density\n",
      "              \n",
      "    Returns\n",
      "    -------\n",
      "    V  : array\n",
      "         array with velocity at every point x\n",
      "    \"\"\"\n",
      "    return u_max*(1-rho/rho_max)\n",
      "    "
     ],
     "language": "python",
     "metadata": {},
     "outputs": []
    },
    {
     "cell_type": "markdown",
     "metadata": {},
     "source": [
      "Start by using a forward-time, backward-space scheme. The discretized form of the traffic model is:\n",
      "\n",
      "\\begin{equation}\n",
      "\\frac{\\rho^{n+1}_i- \\rho^n_{i}}{\\Delta t}+ \\frac{F^n_{i}-F^n_{i-1}}{\\Delta x}=0\n",
      "\\end{equation}\n"
     ]
    },
    {
     "cell_type": "code",
     "collapsed": false,
     "input": [
      "# this code saves the complete traffic density and flux at each time step\n",
      "def ftbs(rho, nt, dt, dx, rho_max, u_max):\n",
      "    \"\"\" Computes the solution with forward in time, backward in space\n",
      "    \n",
      "    Parameters\n",
      "    ----------\n",
      "    rho    : array of floats\n",
      "            Density at current time-step\n",
      "    nt     : int\n",
      "            Number of time steps\n",
      "    dt     : float\n",
      "            Time-step size\n",
      "    dx     : float\n",
      "            Mesh spacing\n",
      "    rho_max: float\n",
      "            Maximum allowed car density\n",
      "    u_max  : float\n",
      "            Speed limit\n",
      "    \n",
      "    Returns\n",
      "    -------\n",
      "    rho_n : array of floats\n",
      "            Density after nt time steps at every point x\n",
      "    \"\"\"\n",
      "    \n",
      "    #initialize our results array with dimensions nt by nx\n",
      "    rho_n = np.zeros((nt,len(rho)))      \n",
      "    #copy the initial u array into each row of our new array\n",
      "    rho_n[0,:] = rho.copy()              \n",
      "    \n",
      "    for t in range(1,nt):\n",
      "        F = computeF(u_max, rho_max, rho)\n",
      "        rho_n[t,1:] = rho[1:] - dt/dx*(F[1:]-F[:-1])\n",
      "        rho_n[t,0] = rho[0]\n",
      "        rho_n[t,-1] = rho[-1]\n",
      "        rho = rho_n[t].copy()\n",
      "        vn = computeV(u_max, rho_max, rho_n)\n",
      "        \n",
      "    return rho_n, F, vn"
     ],
     "language": "python",
     "metadata": {},
     "outputs": []
    },
    {
     "cell_type": "code",
     "collapsed": false,
     "input": [
      "# now run the numerical solution\n",
      "\n",
      "# for 3 mins, nt = 50; for 6 mins, nt = 100\n",
      "nt = 50\n",
      "\n",
      "rho_n, F_n, vn = ftbs(rho0, nt, dt, dx, rhomax, vmax)\n",
      "Ftest = computeF(vmax, rhomax, rho_n[0])"
     ],
     "language": "python",
     "metadata": {},
     "outputs": []
    },
    {
     "cell_type": "code",
     "collapsed": false,
     "input": [
      "ind=-1\n",
      "#print rho_n[ind]\n",
      "#print Ftest\n",
      "#print F_n\n",
      "\n",
      "#print vn[ind]\n",
      "print vn[ind].min()\n",
      "print vn[ind].mean()\n",
      "print vn[ind].max()\n",
      "\n",
      "test = computeV(vmax, rhomax, rho_n[ind])\n",
      "print test.min()\n",
      "print test.mean()"
     ],
     "language": "python",
     "metadata": {},
     "outputs": []
    },
    {
     "cell_type": "code",
     "collapsed": false,
     "input": [
      "## plot density after nt timesteps\n",
      "#plt.plot(x, rho_n[0], color='#003366', lw=3)\n",
      "#plt.ylabel('Traffic density [cars/km]')\n",
      "#plt.xlabel('Distance [km]')\n",
      "#plt.ylim(0,60)\n",
      "#plt.grid()\n",
      "from matplotlib import animation\n",
      "from JSAnimation.IPython_display import display_animation\n",
      "\n",
      "fig = plt.figure();\n",
      "ax = plt.axes(xlim=(0,12), ylim=(0,60),xlabel=('Distance [km]'), ylabel=('Traffic density [cars/km]'));\n",
      "line, = ax.plot([],[],color='#003366', lw = 2);\n",
      "\n",
      "def animate(data):\n",
      "    x = np.linspace(0,11,51)\n",
      "    y = data\n",
      "    line.set_data(x,y)\n",
      "    return line,\n",
      "\n",
      "anim = animation.FuncAnimation(fig, animate, frames=rho_n, interval=50)\n",
      "display_animation(anim, default_mode='once')"
     ],
     "language": "python",
     "metadata": {},
     "outputs": []
    },
    {
     "cell_type": "code",
     "collapsed": false,
     "input": [
      "# calculate v after nt timesteps\n",
      "#vn = vmax*(1-(2*rho_n[-1])/rhomax)\n",
      "#vn = F_n[-1]/rho_n[-1]\n",
      "#print len(vn), len(x)\n",
      "vnn=vn[0]\n",
      "#print vnn\n",
      "#print rho_n[0].min()\n",
      "#print rho_n[0].mean()\n",
      "\n",
      "# plot v after nt timesteps\n",
      "#plt.plot(x, vnn, color='#003366', lw=3)\n",
      "#plt.ylabel('Traffic speed [k/hr]')\n",
      "#plt.xlabel('Distance [km]')\n",
      "#plt.ylim(0,60)\n",
      "#plt.grid()\n",
      "\n",
      "fig = plt.figure();\n",
      "ax = plt.axes(xlim=(0,12), ylim=(60,80), \n",
      "              xlabel=('Distance [km]'), ylabel=('Traffic velocity [km/hr]'));\n",
      "line, = ax.plot([],[], color = '#003366', lw = 2);\n",
      "\n",
      "def animate2(data):\n",
      "    x=np.linspace(0,11,51)\n",
      "    y = data\n",
      "    line.set_data(x,y)\n",
      "    return line,\n",
      "\n",
      "anim2 = animation.FuncAnimation(fig, animate2, frames = vn, interval=50)\n",
      "display_animation(anim2, default_mode='once')\n",
      "\n",
      "print 'min velocity: %r' %(vnn.min()*(1000./(60.*60)))\n",
      "print 'mean velocity: %r' %(vnn.mean()*(1000./(60.*60)))"
     ],
     "language": "python",
     "metadata": {},
     "outputs": []
    },
    {
     "cell_type": "code",
     "collapsed": false,
     "input": [
      "vnn=vn[-1]\n",
      "#print vnn\n",
      "print rho_n[0].min()\n",
      "print rho_n[0].mean()\n",
      "print vnn.min()\n",
      "print vnn.mean()\n",
      "\n",
      "# need to convert km/hr to m/s!\n",
      "print vnn.min()*(1000./(60.*60))\n",
      "print vnn.mean()*(1000./(60.*60))"
     ],
     "language": "python",
     "metadata": {},
     "outputs": []
    }
   ],
   "metadata": {}
  }
 ]
}